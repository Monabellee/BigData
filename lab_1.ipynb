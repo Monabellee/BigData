{
  "nbformat": 4,
  "nbformat_minor": 0,
  "metadata": {
    "colab": {
      "provenance": [],
      "mount_file_id": "1iRGelSkt4qUpYVlsFLEc0CwlH80g_8TL",
      "authorship_tag": "ABX9TyMkZUvSQC9OwT1qnia8/8yg",
      "include_colab_link": true
    },
    "kernelspec": {
      "name": "python3",
      "display_name": "Python 3"
    },
    "language_info": {
      "name": "python"
    }
  },
  "cells": [
    {
      "cell_type": "markdown",
      "metadata": {
        "id": "view-in-github",
        "colab_type": "text"
      },
      "source": [
        "<a href=\"https://colab.research.google.com/github/Monabellee/BigData/blob/main/lab_1.ipynb\" target=\"_parent\"><img src=\"https://colab.research.google.com/assets/colab-badge.svg\" alt=\"Open In Colab\"/></a>"
      ]
    },
    {
      "cell_type": "markdown",
      "source": [
        "Импортируем библиотеки"
      ],
      "metadata": {
        "id": "WLuI7S8syyBc"
      }
    },
    {
      "cell_type": "code",
      "execution_count": 1,
      "metadata": {
        "id": "fKjkbqmyyfTN"
      },
      "outputs": [],
      "source": [
        "import pandas as pd\n",
        "import numpy as np\n",
        "import matplotlib\n",
        "import matplotlib.pyplot as plt\n",
        "%matplotlib inline\n",
        "import seaborn as sns"
      ]
    },
    {
      "cell_type": "markdown",
      "source": [
        "Загрузим датасет с данными о миллиардерах. Мы загружаем этот набор данных из CSV и определяем имена миллиардеров нашим индексом."
      ],
      "metadata": {
        "id": "xf2ERfDvyoqM"
      }
    },
    {
      "cell_type": "code",
      "source": [
        "billion_df = pd.read_csv(\"Billionaires.csv\", index_col =\"Name\")"
      ],
      "metadata": {
        "id": "z8357RDrypBm"
      },
      "execution_count": 2,
      "outputs": []
    },
    {
      "cell_type": "code",
      "source": [
        "billion_df.head()"
      ],
      "metadata": {
        "colab": {
          "base_uri": "https://localhost:8080/",
          "height": 324
        },
        "id": "3eIBKCBK1qJL",
        "outputId": "0e5c1684-d87e-4742-ad46-a7e278717520"
      },
      "execution_count": null,
      "outputs": [
        {
          "output_type": "execute_result",
          "data": {
            "text/plain": [
              "                          Rank Net Worth   Age Country | Territory  \\\n",
              "Name                                                                 \n",
              "Bernard Arnault & family     1    $211 B  74.0              France   \n",
              "Elon Musk                    2    $180 B  51.0       United States   \n",
              "Jeff Bezos                   3    $114 B  59.0       United States   \n",
              "Larry Ellison                4    $107 B  78.0       United States   \n",
              "Warren Buffett               5    $106 B  92.0       United States   \n",
              "\n",
              "                                      Source               Industry  \n",
              "Name                                                                 \n",
              "Bernard Arnault & family                LVMH       Fashion & Retail  \n",
              "Elon Musk                      Tesla, SpaceX             Automotive  \n",
              "Jeff Bezos                            Amazon             Technology  \n",
              "Larry Ellison                         Oracle             Technology  \n",
              "Warren Buffett            Berkshire Hathaway  Finance & Investments  "
            ],
            "text/html": [
              "\n",
              "  <div id=\"df-b0fe7a35-dede-4071-a4bf-f5953adea1be\" class=\"colab-df-container\">\n",
              "    <div>\n",
              "<style scoped>\n",
              "    .dataframe tbody tr th:only-of-type {\n",
              "        vertical-align: middle;\n",
              "    }\n",
              "\n",
              "    .dataframe tbody tr th {\n",
              "        vertical-align: top;\n",
              "    }\n",
              "\n",
              "    .dataframe thead th {\n",
              "        text-align: right;\n",
              "    }\n",
              "</style>\n",
              "<table border=\"1\" class=\"dataframe\">\n",
              "  <thead>\n",
              "    <tr style=\"text-align: right;\">\n",
              "      <th></th>\n",
              "      <th>Rank</th>\n",
              "      <th>Net Worth</th>\n",
              "      <th>Age</th>\n",
              "      <th>Country | Territory</th>\n",
              "      <th>Source</th>\n",
              "      <th>Industry</th>\n",
              "    </tr>\n",
              "    <tr>\n",
              "      <th>Name</th>\n",
              "      <th></th>\n",
              "      <th></th>\n",
              "      <th></th>\n",
              "      <th></th>\n",
              "      <th></th>\n",
              "      <th></th>\n",
              "    </tr>\n",
              "  </thead>\n",
              "  <tbody>\n",
              "    <tr>\n",
              "      <th>Bernard Arnault &amp; family</th>\n",
              "      <td>1</td>\n",
              "      <td>$211 B</td>\n",
              "      <td>74.0</td>\n",
              "      <td>France</td>\n",
              "      <td>LVMH</td>\n",
              "      <td>Fashion &amp; Retail</td>\n",
              "    </tr>\n",
              "    <tr>\n",
              "      <th>Elon Musk</th>\n",
              "      <td>2</td>\n",
              "      <td>$180 B</td>\n",
              "      <td>51.0</td>\n",
              "      <td>United States</td>\n",
              "      <td>Tesla, SpaceX</td>\n",
              "      <td>Automotive</td>\n",
              "    </tr>\n",
              "    <tr>\n",
              "      <th>Jeff Bezos</th>\n",
              "      <td>3</td>\n",
              "      <td>$114 B</td>\n",
              "      <td>59.0</td>\n",
              "      <td>United States</td>\n",
              "      <td>Amazon</td>\n",
              "      <td>Technology</td>\n",
              "    </tr>\n",
              "    <tr>\n",
              "      <th>Larry Ellison</th>\n",
              "      <td>4</td>\n",
              "      <td>$107 B</td>\n",
              "      <td>78.0</td>\n",
              "      <td>United States</td>\n",
              "      <td>Oracle</td>\n",
              "      <td>Technology</td>\n",
              "    </tr>\n",
              "    <tr>\n",
              "      <th>Warren Buffett</th>\n",
              "      <td>5</td>\n",
              "      <td>$106 B</td>\n",
              "      <td>92.0</td>\n",
              "      <td>United States</td>\n",
              "      <td>Berkshire Hathaway</td>\n",
              "      <td>Finance &amp; Investments</td>\n",
              "    </tr>\n",
              "  </tbody>\n",
              "</table>\n",
              "</div>\n",
              "    <div class=\"colab-df-buttons\">\n",
              "\n",
              "  <div class=\"colab-df-container\">\n",
              "    <button class=\"colab-df-convert\" onclick=\"convertToInteractive('df-b0fe7a35-dede-4071-a4bf-f5953adea1be')\"\n",
              "            title=\"Convert this dataframe to an interactive table.\"\n",
              "            style=\"display:none;\">\n",
              "\n",
              "  <svg xmlns=\"http://www.w3.org/2000/svg\" height=\"24px\" viewBox=\"0 -960 960 960\">\n",
              "    <path d=\"M120-120v-720h720v720H120Zm60-500h600v-160H180v160Zm220 220h160v-160H400v160Zm0 220h160v-160H400v160ZM180-400h160v-160H180v160Zm440 0h160v-160H620v160ZM180-180h160v-160H180v160Zm440 0h160v-160H620v160Z\"/>\n",
              "  </svg>\n",
              "    </button>\n",
              "\n",
              "  <style>\n",
              "    .colab-df-container {\n",
              "      display:flex;\n",
              "      gap: 12px;\n",
              "    }\n",
              "\n",
              "    .colab-df-convert {\n",
              "      background-color: #E8F0FE;\n",
              "      border: none;\n",
              "      border-radius: 50%;\n",
              "      cursor: pointer;\n",
              "      display: none;\n",
              "      fill: #1967D2;\n",
              "      height: 32px;\n",
              "      padding: 0 0 0 0;\n",
              "      width: 32px;\n",
              "    }\n",
              "\n",
              "    .colab-df-convert:hover {\n",
              "      background-color: #E2EBFA;\n",
              "      box-shadow: 0px 1px 2px rgba(60, 64, 67, 0.3), 0px 1px 3px 1px rgba(60, 64, 67, 0.15);\n",
              "      fill: #174EA6;\n",
              "    }\n",
              "\n",
              "    .colab-df-buttons div {\n",
              "      margin-bottom: 4px;\n",
              "    }\n",
              "\n",
              "    [theme=dark] .colab-df-convert {\n",
              "      background-color: #3B4455;\n",
              "      fill: #D2E3FC;\n",
              "    }\n",
              "\n",
              "    [theme=dark] .colab-df-convert:hover {\n",
              "      background-color: #434B5C;\n",
              "      box-shadow: 0px 1px 3px 1px rgba(0, 0, 0, 0.15);\n",
              "      filter: drop-shadow(0px 1px 2px rgba(0, 0, 0, 0.3));\n",
              "      fill: #FFFFFF;\n",
              "    }\n",
              "  </style>\n",
              "\n",
              "    <script>\n",
              "      const buttonEl =\n",
              "        document.querySelector('#df-b0fe7a35-dede-4071-a4bf-f5953adea1be button.colab-df-convert');\n",
              "      buttonEl.style.display =\n",
              "        google.colab.kernel.accessAllowed ? 'block' : 'none';\n",
              "\n",
              "      async function convertToInteractive(key) {\n",
              "        const element = document.querySelector('#df-b0fe7a35-dede-4071-a4bf-f5953adea1be');\n",
              "        const dataTable =\n",
              "          await google.colab.kernel.invokeFunction('convertToInteractive',\n",
              "                                                    [key], {});\n",
              "        if (!dataTable) return;\n",
              "\n",
              "        const docLinkHtml = 'Like what you see? Visit the ' +\n",
              "          '<a target=\"_blank\" href=https://colab.research.google.com/notebooks/data_table.ipynb>data table notebook</a>'\n",
              "          + ' to learn more about interactive tables.';\n",
              "        element.innerHTML = '';\n",
              "        dataTable['output_type'] = 'display_data';\n",
              "        await google.colab.output.renderOutput(dataTable, element);\n",
              "        const docLink = document.createElement('div');\n",
              "        docLink.innerHTML = docLinkHtml;\n",
              "        element.appendChild(docLink);\n",
              "      }\n",
              "    </script>\n",
              "  </div>\n",
              "\n",
              "\n",
              "<div id=\"df-9cb8fb2f-ce1d-4809-857c-9da32caf3824\">\n",
              "  <button class=\"colab-df-quickchart\" onclick=\"quickchart('df-9cb8fb2f-ce1d-4809-857c-9da32caf3824')\"\n",
              "            title=\"Suggest charts\"\n",
              "            style=\"display:none;\">\n",
              "\n",
              "<svg xmlns=\"http://www.w3.org/2000/svg\" height=\"24px\"viewBox=\"0 0 24 24\"\n",
              "     width=\"24px\">\n",
              "    <g>\n",
              "        <path d=\"M19 3H5c-1.1 0-2 .9-2 2v14c0 1.1.9 2 2 2h14c1.1 0 2-.9 2-2V5c0-1.1-.9-2-2-2zM9 17H7v-7h2v7zm4 0h-2V7h2v10zm4 0h-2v-4h2v4z\"/>\n",
              "    </g>\n",
              "</svg>\n",
              "  </button>\n",
              "\n",
              "<style>\n",
              "  .colab-df-quickchart {\n",
              "      --bg-color: #E8F0FE;\n",
              "      --fill-color: #1967D2;\n",
              "      --hover-bg-color: #E2EBFA;\n",
              "      --hover-fill-color: #174EA6;\n",
              "      --disabled-fill-color: #AAA;\n",
              "      --disabled-bg-color: #DDD;\n",
              "  }\n",
              "\n",
              "  [theme=dark] .colab-df-quickchart {\n",
              "      --bg-color: #3B4455;\n",
              "      --fill-color: #D2E3FC;\n",
              "      --hover-bg-color: #434B5C;\n",
              "      --hover-fill-color: #FFFFFF;\n",
              "      --disabled-bg-color: #3B4455;\n",
              "      --disabled-fill-color: #666;\n",
              "  }\n",
              "\n",
              "  .colab-df-quickchart {\n",
              "    background-color: var(--bg-color);\n",
              "    border: none;\n",
              "    border-radius: 50%;\n",
              "    cursor: pointer;\n",
              "    display: none;\n",
              "    fill: var(--fill-color);\n",
              "    height: 32px;\n",
              "    padding: 0;\n",
              "    width: 32px;\n",
              "  }\n",
              "\n",
              "  .colab-df-quickchart:hover {\n",
              "    background-color: var(--hover-bg-color);\n",
              "    box-shadow: 0 1px 2px rgba(60, 64, 67, 0.3), 0 1px 3px 1px rgba(60, 64, 67, 0.15);\n",
              "    fill: var(--button-hover-fill-color);\n",
              "  }\n",
              "\n",
              "  .colab-df-quickchart-complete:disabled,\n",
              "  .colab-df-quickchart-complete:disabled:hover {\n",
              "    background-color: var(--disabled-bg-color);\n",
              "    fill: var(--disabled-fill-color);\n",
              "    box-shadow: none;\n",
              "  }\n",
              "\n",
              "  .colab-df-spinner {\n",
              "    border: 2px solid var(--fill-color);\n",
              "    border-color: transparent;\n",
              "    border-bottom-color: var(--fill-color);\n",
              "    animation:\n",
              "      spin 1s steps(1) infinite;\n",
              "  }\n",
              "\n",
              "  @keyframes spin {\n",
              "    0% {\n",
              "      border-color: transparent;\n",
              "      border-bottom-color: var(--fill-color);\n",
              "      border-left-color: var(--fill-color);\n",
              "    }\n",
              "    20% {\n",
              "      border-color: transparent;\n",
              "      border-left-color: var(--fill-color);\n",
              "      border-top-color: var(--fill-color);\n",
              "    }\n",
              "    30% {\n",
              "      border-color: transparent;\n",
              "      border-left-color: var(--fill-color);\n",
              "      border-top-color: var(--fill-color);\n",
              "      border-right-color: var(--fill-color);\n",
              "    }\n",
              "    40% {\n",
              "      border-color: transparent;\n",
              "      border-right-color: var(--fill-color);\n",
              "      border-top-color: var(--fill-color);\n",
              "    }\n",
              "    60% {\n",
              "      border-color: transparent;\n",
              "      border-right-color: var(--fill-color);\n",
              "    }\n",
              "    80% {\n",
              "      border-color: transparent;\n",
              "      border-right-color: var(--fill-color);\n",
              "      border-bottom-color: var(--fill-color);\n",
              "    }\n",
              "    90% {\n",
              "      border-color: transparent;\n",
              "      border-bottom-color: var(--fill-color);\n",
              "    }\n",
              "  }\n",
              "</style>\n",
              "\n",
              "  <script>\n",
              "    async function quickchart(key) {\n",
              "      const quickchartButtonEl =\n",
              "        document.querySelector('#' + key + ' button');\n",
              "      quickchartButtonEl.disabled = true;  // To prevent multiple clicks.\n",
              "      quickchartButtonEl.classList.add('colab-df-spinner');\n",
              "      try {\n",
              "        const charts = await google.colab.kernel.invokeFunction(\n",
              "            'suggestCharts', [key], {});\n",
              "      } catch (error) {\n",
              "        console.error('Error during call to suggestCharts:', error);\n",
              "      }\n",
              "      quickchartButtonEl.classList.remove('colab-df-spinner');\n",
              "      quickchartButtonEl.classList.add('colab-df-quickchart-complete');\n",
              "    }\n",
              "    (() => {\n",
              "      let quickchartButtonEl =\n",
              "        document.querySelector('#df-9cb8fb2f-ce1d-4809-857c-9da32caf3824 button');\n",
              "      quickchartButtonEl.style.display =\n",
              "        google.colab.kernel.accessAllowed ? 'block' : 'none';\n",
              "    })();\n",
              "  </script>\n",
              "</div>\n",
              "    </div>\n",
              "  </div>\n"
            ],
            "application/vnd.google.colaboratory.intrinsic+json": {
              "type": "dataframe",
              "variable_name": "billion_df",
              "summary": "{\n  \"name\": \"billion_df\",\n  \"rows\": 2640,\n  \"fields\": [\n    {\n      \"column\": \"Rank\",\n      \"properties\": {\n        \"dtype\": \"number\",\n        \"std\": 739,\n        \"min\": 1,\n        \"max\": 2540,\n        \"num_unique_values\": 219,\n        \"samples\": [\n          305,\n          115,\n          2259\n        ],\n        \"semantic_type\": \"\",\n        \"description\": \"\"\n      }\n    },\n    {\n      \"column\": \"Net Worth\",\n      \"properties\": {\n        \"dtype\": \"category\",\n        \"num_unique_values\": 219,\n        \"samples\": [\n          \"$7.4 B\",\n          \"$15.2 B\",\n          \"$1.2 B\"\n        ],\n        \"semantic_type\": \"\",\n        \"description\": \"\"\n      }\n    },\n    {\n      \"column\": \"Age\",\n      \"properties\": {\n        \"dtype\": \"number\",\n        \"std\": 13.258245390154167,\n        \"min\": 18.0,\n        \"max\": 101.0,\n        \"num_unique_values\": 79,\n        \"samples\": [\n          84.0,\n          74.0,\n          77.0\n        ],\n        \"semantic_type\": \"\",\n        \"description\": \"\"\n      }\n    },\n    {\n      \"column\": \"Country | Territory\",\n      \"properties\": {\n        \"dtype\": \"category\",\n        \"num_unique_values\": 77,\n        \"samples\": [\n          \"Spain\",\n          \"Taiwan\",\n          \"Austria\"\n        ],\n        \"semantic_type\": \"\",\n        \"description\": \"\"\n      }\n    },\n    {\n      \"column\": \"Source\",\n      \"properties\": {\n        \"dtype\": \"category\",\n        \"num_unique_values\": 906,\n        \"samples\": [\n          \"Pinterest\",\n          \"Hair care products\",\n          \"Banking, real estate\"\n        ],\n        \"semantic_type\": \"\",\n        \"description\": \"\"\n      }\n    },\n    {\n      \"column\": \"Industry\",\n      \"properties\": {\n        \"dtype\": \"category\",\n        \"num_unique_values\": 18,\n        \"samples\": [\n          \"Fashion & Retail\",\n          \"Automotive\",\n          \"Logistics\"\n        ],\n        \"semantic_type\": \"\",\n        \"description\": \"\"\n      }\n    }\n  ]\n}"
            }
          },
          "metadata": {},
          "execution_count": 9
        }
      ]
    },
    {
      "cell_type": "code",
      "source": [
        "billion_df.info()\n",
        "billion_df.shape"
      ],
      "metadata": {
        "colab": {
          "base_uri": "https://localhost:8080/"
        },
        "id": "3NVOOFP02EmE",
        "outputId": "038f44dd-6eb3-461e-9332-90e1c06a86f6"
      },
      "execution_count": null,
      "outputs": [
        {
          "output_type": "stream",
          "name": "stdout",
          "text": [
            "<class 'pandas.core.frame.DataFrame'>\n",
            "Index: 2640 entries, Bernard Arnault & family to Inigo Zobel\n",
            "Data columns (total 6 columns):\n",
            " #   Column               Non-Null Count  Dtype  \n",
            "---  ------               --------------  -----  \n",
            " 0   Rank                 2640 non-null   int64  \n",
            " 1   Net Worth            2640 non-null   object \n",
            " 2   Age                  2576 non-null   float64\n",
            " 3   Country | Territory  2640 non-null   object \n",
            " 4   Source               2640 non-null   object \n",
            " 5   Industry             2640 non-null   object \n",
            "dtypes: float64(1), int64(1), object(4)\n",
            "memory usage: 208.9+ KB\n"
          ]
        },
        {
          "output_type": "execute_result",
          "data": {
            "text/plain": [
              "(2640, 6)"
            ]
          },
          "metadata": {},
          "execution_count": 8
        }
      ]
    },
    {
      "cell_type": "code",
      "source": [
        "billion_df.duplicated().sum()"
      ],
      "metadata": {
        "colab": {
          "base_uri": "https://localhost:8080/"
        },
        "id": "j0cr4o6V9VG1",
        "outputId": "821e6be8-8347-44ad-eb28-e03b40d9647e"
      },
      "execution_count": 3,
      "outputs": [
        {
          "output_type": "execute_result",
          "data": {
            "text/plain": [
              "26"
            ]
          },
          "metadata": {},
          "execution_count": 3
        }
      ]
    },
    {
      "cell_type": "code",
      "source": [
        "billion_df.drop_duplicates(inplace=True)\n",
        "billion_df.info()"
      ],
      "metadata": {
        "colab": {
          "base_uri": "https://localhost:8080/"
        },
        "id": "m7pjCSXs9We3",
        "outputId": "8b30dd33-5625-440c-c59d-0381f63bd5d1"
      },
      "execution_count": 4,
      "outputs": [
        {
          "output_type": "stream",
          "name": "stdout",
          "text": [
            "<class 'pandas.core.frame.DataFrame'>\n",
            "Index: 2614 entries, Bernard Arnault & family to Inigo Zobel\n",
            "Data columns (total 6 columns):\n",
            " #   Column               Non-Null Count  Dtype  \n",
            "---  ------               --------------  -----  \n",
            " 0   Rank                 2614 non-null   int64  \n",
            " 1   Net Worth            2614 non-null   object \n",
            " 2   Age                  2560 non-null   float64\n",
            " 3   Country | Territory  2614 non-null   object \n",
            " 4   Source               2614 non-null   object \n",
            " 5   Industry             2614 non-null   object \n",
            "dtypes: float64(1), int64(1), object(4)\n",
            "memory usage: 143.0+ KB\n"
          ]
        }
      ]
    },
    {
      "cell_type": "code",
      "source": [
        "billion_df.isnull().sum()"
      ],
      "metadata": {
        "colab": {
          "base_uri": "https://localhost:8080/"
        },
        "id": "DxMj7Nc692e0",
        "outputId": "2f012c59-9db3-4880-a561-81c0d99b0ef9"
      },
      "execution_count": 5,
      "outputs": [
        {
          "output_type": "execute_result",
          "data": {
            "text/plain": [
              "Rank                    0\n",
              "Net Worth               0\n",
              "Age                    54\n",
              "Country | Territory     0\n",
              "Source                  0\n",
              "Industry                0\n",
              "dtype: int64"
            ]
          },
          "metadata": {},
          "execution_count": 5
        }
      ]
    },
    {
      "cell_type": "markdown",
      "source": [
        "Опишем столбец Country | Territory. Делаем вывод, что больше всего миллиардеров из США"
      ],
      "metadata": {
        "id": "Gfi9XHkJkAJL"
      }
    },
    {
      "cell_type": "code",
      "source": [
        "stat = billion_df['Country | Territory'].describe()\n",
        "print(stat)"
      ],
      "metadata": {
        "colab": {
          "base_uri": "https://localhost:8080/"
        },
        "id": "CP0Z1pyr4GBP",
        "outputId": "72e7a776-060a-45d4-983c-354f6a6d47c0"
      },
      "execution_count": null,
      "outputs": [
        {
          "output_type": "stream",
          "name": "stdout",
          "text": [
            "count              2614\n",
            "unique               77\n",
            "top       United States\n",
            "freq                729\n",
            "Name: Country | Territory, dtype: object\n"
          ]
        }
      ]
    },
    {
      "cell_type": "markdown",
      "source": [
        "Опишем столбец Age. Сделаем вывод, что средний возраст миллиардеров - 65 лет."
      ],
      "metadata": {
        "id": "5t9AnG2BkVsI"
      }
    },
    {
      "cell_type": "code",
      "source": [
        "stat = billion_df['Age'].describe()\n",
        "print(stat)"
      ],
      "metadata": {
        "colab": {
          "base_uri": "https://localhost:8080/"
        },
        "id": "SSVrOhDic2Yn",
        "outputId": "e4b6b1ec-06ee-4cf5-cbd6-6665a24fd8cd"
      },
      "execution_count": null,
      "outputs": [
        {
          "output_type": "stream",
          "name": "stdout",
          "text": [
            "count    2560.000000\n",
            "mean       65.163281\n",
            "std        13.272444\n",
            "min        18.000000\n",
            "25%        56.000000\n",
            "50%        65.000000\n",
            "75%        75.000000\n",
            "max       101.000000\n",
            "Name: Age, dtype: float64\n"
          ]
        }
      ]
    },
    {
      "cell_type": "code",
      "source": [
        "billion_df[['Age', 'Net Worth']]"
      ],
      "metadata": {
        "colab": {
          "base_uri": "https://localhost:8080/",
          "height": 455
        },
        "id": "WiiQeOHRg9n1",
        "outputId": "daa00ace-dc34-4483-f2ca-d320db6a01b7"
      },
      "execution_count": null,
      "outputs": [
        {
          "output_type": "execute_result",
          "data": {
            "text/plain": [
              "                           Age Net Worth\n",
              "Name                                    \n",
              "Bernard Arnault & family  74.0    $211 B\n",
              "Elon Musk                 51.0    $180 B\n",
              "Jeff Bezos                59.0    $114 B\n",
              "Larry Ellison             78.0    $107 B\n",
              "Warren Buffett            92.0    $106 B\n",
              "...                        ...       ...\n",
              "Yu Rong                   51.0      $1 B\n",
              "Richard Yuengling, Jr.    80.0      $1 B\n",
              "Zhang Gongyun             60.0      $1 B\n",
              "Zhang Guiping & family    71.0      $1 B\n",
              "Inigo Zobel               66.0      $1 B\n",
              "\n",
              "[2614 rows x 2 columns]"
            ],
            "text/html": [
              "\n",
              "  <div id=\"df-beb6286e-25af-4fec-8e8f-39c583b88fcd\" class=\"colab-df-container\">\n",
              "    <div>\n",
              "<style scoped>\n",
              "    .dataframe tbody tr th:only-of-type {\n",
              "        vertical-align: middle;\n",
              "    }\n",
              "\n",
              "    .dataframe tbody tr th {\n",
              "        vertical-align: top;\n",
              "    }\n",
              "\n",
              "    .dataframe thead th {\n",
              "        text-align: right;\n",
              "    }\n",
              "</style>\n",
              "<table border=\"1\" class=\"dataframe\">\n",
              "  <thead>\n",
              "    <tr style=\"text-align: right;\">\n",
              "      <th></th>\n",
              "      <th>Age</th>\n",
              "      <th>Net Worth</th>\n",
              "    </tr>\n",
              "    <tr>\n",
              "      <th>Name</th>\n",
              "      <th></th>\n",
              "      <th></th>\n",
              "    </tr>\n",
              "  </thead>\n",
              "  <tbody>\n",
              "    <tr>\n",
              "      <th>Bernard Arnault &amp; family</th>\n",
              "      <td>74.0</td>\n",
              "      <td>$211 B</td>\n",
              "    </tr>\n",
              "    <tr>\n",
              "      <th>Elon Musk</th>\n",
              "      <td>51.0</td>\n",
              "      <td>$180 B</td>\n",
              "    </tr>\n",
              "    <tr>\n",
              "      <th>Jeff Bezos</th>\n",
              "      <td>59.0</td>\n",
              "      <td>$114 B</td>\n",
              "    </tr>\n",
              "    <tr>\n",
              "      <th>Larry Ellison</th>\n",
              "      <td>78.0</td>\n",
              "      <td>$107 B</td>\n",
              "    </tr>\n",
              "    <tr>\n",
              "      <th>Warren Buffett</th>\n",
              "      <td>92.0</td>\n",
              "      <td>$106 B</td>\n",
              "    </tr>\n",
              "    <tr>\n",
              "      <th>...</th>\n",
              "      <td>...</td>\n",
              "      <td>...</td>\n",
              "    </tr>\n",
              "    <tr>\n",
              "      <th>Yu Rong</th>\n",
              "      <td>51.0</td>\n",
              "      <td>$1 B</td>\n",
              "    </tr>\n",
              "    <tr>\n",
              "      <th>Richard Yuengling, Jr.</th>\n",
              "      <td>80.0</td>\n",
              "      <td>$1 B</td>\n",
              "    </tr>\n",
              "    <tr>\n",
              "      <th>Zhang Gongyun</th>\n",
              "      <td>60.0</td>\n",
              "      <td>$1 B</td>\n",
              "    </tr>\n",
              "    <tr>\n",
              "      <th>Zhang Guiping &amp; family</th>\n",
              "      <td>71.0</td>\n",
              "      <td>$1 B</td>\n",
              "    </tr>\n",
              "    <tr>\n",
              "      <th>Inigo Zobel</th>\n",
              "      <td>66.0</td>\n",
              "      <td>$1 B</td>\n",
              "    </tr>\n",
              "  </tbody>\n",
              "</table>\n",
              "<p>2614 rows × 2 columns</p>\n",
              "</div>\n",
              "    <div class=\"colab-df-buttons\">\n",
              "\n",
              "  <div class=\"colab-df-container\">\n",
              "    <button class=\"colab-df-convert\" onclick=\"convertToInteractive('df-beb6286e-25af-4fec-8e8f-39c583b88fcd')\"\n",
              "            title=\"Convert this dataframe to an interactive table.\"\n",
              "            style=\"display:none;\">\n",
              "\n",
              "  <svg xmlns=\"http://www.w3.org/2000/svg\" height=\"24px\" viewBox=\"0 -960 960 960\">\n",
              "    <path d=\"M120-120v-720h720v720H120Zm60-500h600v-160H180v160Zm220 220h160v-160H400v160Zm0 220h160v-160H400v160ZM180-400h160v-160H180v160Zm440 0h160v-160H620v160ZM180-180h160v-160H180v160Zm440 0h160v-160H620v160Z\"/>\n",
              "  </svg>\n",
              "    </button>\n",
              "\n",
              "  <style>\n",
              "    .colab-df-container {\n",
              "      display:flex;\n",
              "      gap: 12px;\n",
              "    }\n",
              "\n",
              "    .colab-df-convert {\n",
              "      background-color: #E8F0FE;\n",
              "      border: none;\n",
              "      border-radius: 50%;\n",
              "      cursor: pointer;\n",
              "      display: none;\n",
              "      fill: #1967D2;\n",
              "      height: 32px;\n",
              "      padding: 0 0 0 0;\n",
              "      width: 32px;\n",
              "    }\n",
              "\n",
              "    .colab-df-convert:hover {\n",
              "      background-color: #E2EBFA;\n",
              "      box-shadow: 0px 1px 2px rgba(60, 64, 67, 0.3), 0px 1px 3px 1px rgba(60, 64, 67, 0.15);\n",
              "      fill: #174EA6;\n",
              "    }\n",
              "\n",
              "    .colab-df-buttons div {\n",
              "      margin-bottom: 4px;\n",
              "    }\n",
              "\n",
              "    [theme=dark] .colab-df-convert {\n",
              "      background-color: #3B4455;\n",
              "      fill: #D2E3FC;\n",
              "    }\n",
              "\n",
              "    [theme=dark] .colab-df-convert:hover {\n",
              "      background-color: #434B5C;\n",
              "      box-shadow: 0px 1px 3px 1px rgba(0, 0, 0, 0.15);\n",
              "      filter: drop-shadow(0px 1px 2px rgba(0, 0, 0, 0.3));\n",
              "      fill: #FFFFFF;\n",
              "    }\n",
              "  </style>\n",
              "\n",
              "    <script>\n",
              "      const buttonEl =\n",
              "        document.querySelector('#df-beb6286e-25af-4fec-8e8f-39c583b88fcd button.colab-df-convert');\n",
              "      buttonEl.style.display =\n",
              "        google.colab.kernel.accessAllowed ? 'block' : 'none';\n",
              "\n",
              "      async function convertToInteractive(key) {\n",
              "        const element = document.querySelector('#df-beb6286e-25af-4fec-8e8f-39c583b88fcd');\n",
              "        const dataTable =\n",
              "          await google.colab.kernel.invokeFunction('convertToInteractive',\n",
              "                                                    [key], {});\n",
              "        if (!dataTable) return;\n",
              "\n",
              "        const docLinkHtml = 'Like what you see? Visit the ' +\n",
              "          '<a target=\"_blank\" href=https://colab.research.google.com/notebooks/data_table.ipynb>data table notebook</a>'\n",
              "          + ' to learn more about interactive tables.';\n",
              "        element.innerHTML = '';\n",
              "        dataTable['output_type'] = 'display_data';\n",
              "        await google.colab.output.renderOutput(dataTable, element);\n",
              "        const docLink = document.createElement('div');\n",
              "        docLink.innerHTML = docLinkHtml;\n",
              "        element.appendChild(docLink);\n",
              "      }\n",
              "    </script>\n",
              "  </div>\n",
              "\n",
              "\n",
              "<div id=\"df-d7df98d6-49e3-4cbe-9d94-9110b011b941\">\n",
              "  <button class=\"colab-df-quickchart\" onclick=\"quickchart('df-d7df98d6-49e3-4cbe-9d94-9110b011b941')\"\n",
              "            title=\"Suggest charts\"\n",
              "            style=\"display:none;\">\n",
              "\n",
              "<svg xmlns=\"http://www.w3.org/2000/svg\" height=\"24px\"viewBox=\"0 0 24 24\"\n",
              "     width=\"24px\">\n",
              "    <g>\n",
              "        <path d=\"M19 3H5c-1.1 0-2 .9-2 2v14c0 1.1.9 2 2 2h14c1.1 0 2-.9 2-2V5c0-1.1-.9-2-2-2zM9 17H7v-7h2v7zm4 0h-2V7h2v10zm4 0h-2v-4h2v4z\"/>\n",
              "    </g>\n",
              "</svg>\n",
              "  </button>\n",
              "\n",
              "<style>\n",
              "  .colab-df-quickchart {\n",
              "      --bg-color: #E8F0FE;\n",
              "      --fill-color: #1967D2;\n",
              "      --hover-bg-color: #E2EBFA;\n",
              "      --hover-fill-color: #174EA6;\n",
              "      --disabled-fill-color: #AAA;\n",
              "      --disabled-bg-color: #DDD;\n",
              "  }\n",
              "\n",
              "  [theme=dark] .colab-df-quickchart {\n",
              "      --bg-color: #3B4455;\n",
              "      --fill-color: #D2E3FC;\n",
              "      --hover-bg-color: #434B5C;\n",
              "      --hover-fill-color: #FFFFFF;\n",
              "      --disabled-bg-color: #3B4455;\n",
              "      --disabled-fill-color: #666;\n",
              "  }\n",
              "\n",
              "  .colab-df-quickchart {\n",
              "    background-color: var(--bg-color);\n",
              "    border: none;\n",
              "    border-radius: 50%;\n",
              "    cursor: pointer;\n",
              "    display: none;\n",
              "    fill: var(--fill-color);\n",
              "    height: 32px;\n",
              "    padding: 0;\n",
              "    width: 32px;\n",
              "  }\n",
              "\n",
              "  .colab-df-quickchart:hover {\n",
              "    background-color: var(--hover-bg-color);\n",
              "    box-shadow: 0 1px 2px rgba(60, 64, 67, 0.3), 0 1px 3px 1px rgba(60, 64, 67, 0.15);\n",
              "    fill: var(--button-hover-fill-color);\n",
              "  }\n",
              "\n",
              "  .colab-df-quickchart-complete:disabled,\n",
              "  .colab-df-quickchart-complete:disabled:hover {\n",
              "    background-color: var(--disabled-bg-color);\n",
              "    fill: var(--disabled-fill-color);\n",
              "    box-shadow: none;\n",
              "  }\n",
              "\n",
              "  .colab-df-spinner {\n",
              "    border: 2px solid var(--fill-color);\n",
              "    border-color: transparent;\n",
              "    border-bottom-color: var(--fill-color);\n",
              "    animation:\n",
              "      spin 1s steps(1) infinite;\n",
              "  }\n",
              "\n",
              "  @keyframes spin {\n",
              "    0% {\n",
              "      border-color: transparent;\n",
              "      border-bottom-color: var(--fill-color);\n",
              "      border-left-color: var(--fill-color);\n",
              "    }\n",
              "    20% {\n",
              "      border-color: transparent;\n",
              "      border-left-color: var(--fill-color);\n",
              "      border-top-color: var(--fill-color);\n",
              "    }\n",
              "    30% {\n",
              "      border-color: transparent;\n",
              "      border-left-color: var(--fill-color);\n",
              "      border-top-color: var(--fill-color);\n",
              "      border-right-color: var(--fill-color);\n",
              "    }\n",
              "    40% {\n",
              "      border-color: transparent;\n",
              "      border-right-color: var(--fill-color);\n",
              "      border-top-color: var(--fill-color);\n",
              "    }\n",
              "    60% {\n",
              "      border-color: transparent;\n",
              "      border-right-color: var(--fill-color);\n",
              "    }\n",
              "    80% {\n",
              "      border-color: transparent;\n",
              "      border-right-color: var(--fill-color);\n",
              "      border-bottom-color: var(--fill-color);\n",
              "    }\n",
              "    90% {\n",
              "      border-color: transparent;\n",
              "      border-bottom-color: var(--fill-color);\n",
              "    }\n",
              "  }\n",
              "</style>\n",
              "\n",
              "  <script>\n",
              "    async function quickchart(key) {\n",
              "      const quickchartButtonEl =\n",
              "        document.querySelector('#' + key + ' button');\n",
              "      quickchartButtonEl.disabled = true;  // To prevent multiple clicks.\n",
              "      quickchartButtonEl.classList.add('colab-df-spinner');\n",
              "      try {\n",
              "        const charts = await google.colab.kernel.invokeFunction(\n",
              "            'suggestCharts', [key], {});\n",
              "      } catch (error) {\n",
              "        console.error('Error during call to suggestCharts:', error);\n",
              "      }\n",
              "      quickchartButtonEl.classList.remove('colab-df-spinner');\n",
              "      quickchartButtonEl.classList.add('colab-df-quickchart-complete');\n",
              "    }\n",
              "    (() => {\n",
              "      let quickchartButtonEl =\n",
              "        document.querySelector('#df-d7df98d6-49e3-4cbe-9d94-9110b011b941 button');\n",
              "      quickchartButtonEl.style.display =\n",
              "        google.colab.kernel.accessAllowed ? 'block' : 'none';\n",
              "    })();\n",
              "  </script>\n",
              "</div>\n",
              "    </div>\n",
              "  </div>\n"
            ],
            "application/vnd.google.colaboratory.intrinsic+json": {
              "type": "dataframe",
              "summary": "{\n  \"name\": \"billion_df[['Age', 'Net Worth']]\",\n  \"rows\": 2614,\n  \"fields\": [\n    {\n      \"column\": \"Age\",\n      \"properties\": {\n        \"dtype\": \"number\",\n        \"std\": 13.272444230984568,\n        \"min\": 18.0,\n        \"max\": 101.0,\n        \"num_unique_values\": 79,\n        \"samples\": [\n          84.0,\n          74.0,\n          77.0\n        ],\n        \"semantic_type\": \"\",\n        \"description\": \"\"\n      }\n    },\n    {\n      \"column\": \"Net Worth\",\n      \"properties\": {\n        \"dtype\": \"category\",\n        \"num_unique_values\": 219,\n        \"samples\": [\n          \"$7.4 B\",\n          \"$15.2 B\",\n          \"$1.2 B\"\n        ],\n        \"semantic_type\": \"\",\n        \"description\": \"\"\n      }\n    }\n  ]\n}"
            }
          },
          "metadata": {},
          "execution_count": 71
        }
      ]
    },
    {
      "cell_type": "code",
      "source": [
        "billion_df['Country | Territory'].value_counts(normalize=True)"
      ],
      "metadata": {
        "colab": {
          "base_uri": "https://localhost:8080/"
        },
        "id": "DuYbkiquiLqD",
        "outputId": "4b5faaba-6f20-4129-f344-e4f49d97b0f1"
      },
      "execution_count": null,
      "outputs": [
        {
          "output_type": "execute_result",
          "data": {
            "text/plain": [
              "United States    0.278883\n",
              "China            0.184774\n",
              "India            0.064269\n",
              "Germany          0.046672\n",
              "Russia           0.039786\n",
              "                   ...   \n",
              "Liechtenstein    0.000383\n",
              "Guernsey         0.000383\n",
              "Iceland          0.000383\n",
              "Algeria          0.000383\n",
              "Panama           0.000383\n",
              "Name: Country | Territory, Length: 77, dtype: float64"
            ]
          },
          "metadata": {},
          "execution_count": 72
        }
      ]
    },
    {
      "cell_type": "code",
      "source": [
        "def df_country(country):\n",
        "  return billion_df[billion_df['Country | Territory'] == country]"
      ],
      "metadata": {
        "id": "nqIZ5LuVqDJi"
      },
      "execution_count": 12,
      "outputs": []
    },
    {
      "cell_type": "code",
      "source": [
        "df_US = df_country('United States')\n",
        "print(df_US)"
      ],
      "metadata": {
        "colab": {
          "base_uri": "https://localhost:8080/"
        },
        "id": "G4ZWIdOUiztj",
        "outputId": "68ce4dad-3e03-4dcb-92ab-cf8ae7076672"
      },
      "execution_count": null,
      "outputs": [
        {
          "output_type": "stream",
          "name": "stdout",
          "text": [
            "                        Rank Net Worth   Age Country | Territory  \\\n",
            "Name                                                               \n",
            "Elon Musk                  2    $180 B  51.0       United States   \n",
            "Jeff Bezos                 3    $114 B  59.0       United States   \n",
            "Larry Ellison              4    $107 B  78.0       United States   \n",
            "Warren Buffett             5    $106 B  92.0       United States   \n",
            "Bill Gates                 6    $104 B  67.0       United States   \n",
            "...                      ...       ...   ...                 ...   \n",
            "George Sakellaris       2540      $1 B  76.0       United States   \n",
            "Neerja Sethi            2540      $1 B  68.0       United States   \n",
            "Scott Smith             2540      $1 B  73.0       United States   \n",
            "David Tran & family     2540      $1 B  77.0       United States   \n",
            "Richard Yuengling, Jr.  2540      $1 B  80.0       United States   \n",
            "\n",
            "                                            Source               Industry  \\\n",
            "Name                                                                        \n",
            "Elon Musk                            Tesla, SpaceX             Automotive   \n",
            "Jeff Bezos                                  Amazon             Technology   \n",
            "Larry Ellison                               Oracle             Technology   \n",
            "Warren Buffett                  Berkshire Hathaway  Finance & Investments   \n",
            "Bill Gates                               Microsoft             Technology   \n",
            "...                                            ...                    ...   \n",
            "George Sakellaris                  Energy services                 Energy   \n",
            "Neerja Sethi            IT consulting, outsourcing             Technology   \n",
            "Scott Smith                        Cloud computing             Technology   \n",
            "David Tran & family                      Hot sauce        Food & Beverage   \n",
            "Richard Yuengling, Jr.                        Beer        Food & Beverage   \n",
            "\n",
            "                        Worth  \n",
            "Name                           \n",
            "Elon Musk               180.0  \n",
            "Jeff Bezos              114.0  \n",
            "Larry Ellison           107.0  \n",
            "Warren Buffett          106.0  \n",
            "Bill Gates              104.0  \n",
            "...                       ...  \n",
            "George Sakellaris         1.0  \n",
            "Neerja Sethi              1.0  \n",
            "Scott Smith               1.0  \n",
            "David Tran & family       1.0  \n",
            "Richard Yuengling, Jr.    1.0  \n",
            "\n",
            "[729 rows x 7 columns]\n"
          ]
        }
      ]
    },
    {
      "cell_type": "markdown",
      "source": [
        "Найдем средний возраст миллиардеров в США"
      ],
      "metadata": {
        "id": "y92ZetHynCwe"
      }
    },
    {
      "cell_type": "code",
      "source": [
        "df_US['Age'].mean()"
      ],
      "metadata": {
        "colab": {
          "base_uri": "https://localhost:8080/"
        },
        "id": "awoD5ix1mRjF",
        "outputId": "cf1befff-b1b5-4324-9653-4c21bb713af5"
      },
      "execution_count": null,
      "outputs": [
        {
          "output_type": "execute_result",
          "data": {
            "text/plain": [
              "67.87379972565158"
            ]
          },
          "metadata": {},
          "execution_count": 75
        }
      ]
    },
    {
      "cell_type": "markdown",
      "source": [
        "Выведем информацию о российских миллиардерах"
      ],
      "metadata": {
        "id": "eCg7V04to7Qx"
      }
    },
    {
      "cell_type": "code",
      "source": [
        "df_Rus = df_country('Russia')\n",
        "print(df_Rus)"
      ],
      "metadata": {
        "colab": {
          "base_uri": "https://localhost:8080/"
        },
        "id": "yFNib9RVpeLL",
        "outputId": "3237a8f3-b6c2-48bd-b2ed-8a1f33490f7d"
      },
      "execution_count": null,
      "outputs": [
        {
          "output_type": "stream",
          "name": "stdout",
          "text": [
            "                             Rank Net Worth   Age Country | Territory  \\\n",
            "Name                                                                    \n",
            "Andrey Melnichenko & family    58   $25.2 B  51.0              Russia   \n",
            "Vladimir Potanin               62   $23.7 B  62.0              Russia   \n",
            "Vladimir Lisin                 70   $22.1 B  66.0              Russia   \n",
            "Leonid Mikhelson & family      72   $21.6 B  67.0              Russia   \n",
            "Alexey Mordashov & family      79   $20.9 B  57.0              Russia   \n",
            "...                           ...       ...   ...                 ...   \n",
            "Arkady Volozh                2405    $1.1 B  59.0              Russia   \n",
            "Lev Kvetnoi                  2540      $1 B  57.0              Russia   \n",
            "Andrei Molchanov             2540      $1 B  51.0              Russia   \n",
            "Ivan Streshinsky             2540      $1 B  53.0              Russia   \n",
            "Sergei Sudarikov             2540      $1 B  51.0              Russia   \n",
            "\n",
            "                                             Source  \\\n",
            "Name                                                  \n",
            "Andrey Melnichenko & family       Fertilizers, coal   \n",
            "Vladimir Potanin                             Metals   \n",
            "Vladimir Lisin                     Steel, transport   \n",
            "Leonid Mikhelson & family            Gas, chemicals   \n",
            "Alexey Mordashov & family        Steel, investments   \n",
            "...                                             ...   \n",
            "Arkady Volozh                         Search engine   \n",
            "Lev Kvetnoi                                  Cement   \n",
            "Andrei Molchanov             Construction materials   \n",
            "Ivan Streshinsky                    Metals, telecom   \n",
            "Sergei Sudarikov               Finance, development   \n",
            "\n",
            "                                               Industry  Worth  \n",
            "Name                                                            \n",
            "Andrey Melnichenko & family             Metals & Mining   25.2  \n",
            "Vladimir Potanin                        Metals & Mining   23.7  \n",
            "Vladimir Lisin                          Metals & Mining   22.1  \n",
            "Leonid Mikhelson & family                        Energy   21.6  \n",
            "Alexey Mordashov & family               Metals & Mining   20.9  \n",
            "...                                                 ...    ...  \n",
            "Arkady Volozh                                Technology    1.1  \n",
            "Lev Kvetnoi                       Finance & Investments    1.0  \n",
            "Andrei Molchanov             Construction & Engineering    1.0  \n",
            "Ivan Streshinsky                            Diversified    1.0  \n",
            "Sergei Sudarikov                  Finance & Investments    1.0  \n",
            "\n",
            "[104 rows x 7 columns]\n"
          ]
        }
      ]
    },
    {
      "cell_type": "markdown",
      "source": [
        "Найдем индустрию, в которой больше всего миллиардеров в России"
      ],
      "metadata": {
        "id": "AcPYLuDZo0o4"
      }
    },
    {
      "cell_type": "code",
      "source": [
        "df_Rus['Industry'].value_counts().idxmax()"
      ],
      "metadata": {
        "colab": {
          "base_uri": "https://localhost:8080/",
          "height": 35
        },
        "id": "lR-Cg061oN81",
        "outputId": "9efe7f69-184d-48f3-bc31-aabc93f30c69"
      },
      "execution_count": null,
      "outputs": [
        {
          "output_type": "execute_result",
          "data": {
            "text/plain": [
              "'Metals & Mining'"
            ],
            "application/vnd.google.colaboratory.intrinsic+json": {
              "type": "string"
            }
          },
          "metadata": {},
          "execution_count": 77
        }
      ]
    },
    {
      "cell_type": "markdown",
      "source": [
        "Выведем информацию о самом молодом миллиардере в России"
      ],
      "metadata": {
        "id": "YPOovRUasKX5"
      }
    },
    {
      "cell_type": "code",
      "source": [
        "stat = df_Rus[df_Rus['Age'] == df_Rus['Age'].min()]\n",
        "print(stat)\n",
        "#df_Rus['Age'].min()"
      ],
      "metadata": {
        "colab": {
          "base_uri": "https://localhost:8080/"
        },
        "id": "vLMxZBL-raC0",
        "outputId": "c01c33f7-0f71-4af7-edd7-e2af179e3b42"
      },
      "execution_count": null,
      "outputs": [
        {
          "output_type": "stream",
          "name": "stdout",
          "text": [
            "                Rank Net Worth   Age Country | Territory               Source  \\\n",
            "Name                                                                            \n",
            "Said Gutseriev  2405    $1.1 B  34.0              Russia  Retail, investments   \n",
            "\n",
            "               Industry  Worth  \n",
            "Name                            \n",
            "Said Gutseriev   Energy    1.1  \n"
          ]
        }
      ]
    },
    {
      "cell_type": "markdown",
      "source": [
        "Создадим функцию замены типа данных столбца Net Worth"
      ],
      "metadata": {
        "id": "0NTZ5n3K5mRw"
      }
    },
    {
      "cell_type": "code",
      "source": [
        "def convert_currency(val):\n",
        "    new_val = val.replace('B', '').replace('$', '')\n",
        "    return float(new_val)"
      ],
      "metadata": {
        "id": "3VDVpuDrxdls"
      },
      "execution_count": 6,
      "outputs": []
    },
    {
      "cell_type": "code",
      "source": [
        "billion_df['Net Worth'].apply(convert_currency)"
      ],
      "metadata": {
        "colab": {
          "base_uri": "https://localhost:8080/"
        },
        "id": "g5nOSz4I07dP",
        "outputId": "759b3f8f-688d-456e-dadf-35e359429cb6"
      },
      "execution_count": 7,
      "outputs": [
        {
          "output_type": "execute_result",
          "data": {
            "text/plain": [
              "Name\n",
              "Bernard Arnault & family    211.0\n",
              "Elon Musk                   180.0\n",
              "Jeff Bezos                  114.0\n",
              "Larry Ellison               107.0\n",
              "Warren Buffett              106.0\n",
              "                            ...  \n",
              "Yu Rong                       1.0\n",
              "Richard Yuengling, Jr.        1.0\n",
              "Zhang Gongyun                 1.0\n",
              "Zhang Guiping & family        1.0\n",
              "Inigo Zobel                   1.0\n",
              "Name: Net Worth, Length: 2614, dtype: float64"
            ]
          },
          "metadata": {},
          "execution_count": 7
        }
      ]
    },
    {
      "cell_type": "code",
      "source": [
        "billion_df['Worth'] = billion_df['Net Worth'].apply(convert_currency)\n",
        "print(billion_df)"
      ],
      "metadata": {
        "colab": {
          "base_uri": "https://localhost:8080/"
        },
        "id": "bibYeHv_25j2",
        "outputId": "af3cccab-1206-4181-9e41-983312db7751"
      },
      "execution_count": 8,
      "outputs": [
        {
          "output_type": "stream",
          "name": "stdout",
          "text": [
            "                          Rank Net Worth   Age Country | Territory  \\\n",
            "Name                                                                 \n",
            "Bernard Arnault & family     1    $211 B  74.0              France   \n",
            "Elon Musk                    2    $180 B  51.0       United States   \n",
            "Jeff Bezos                   3    $114 B  59.0       United States   \n",
            "Larry Ellison                4    $107 B  78.0       United States   \n",
            "Warren Buffett               5    $106 B  92.0       United States   \n",
            "...                        ...       ...   ...                 ...   \n",
            "Yu Rong                   2540      $1 B  51.0               China   \n",
            "Richard Yuengling, Jr.    2540      $1 B  80.0       United States   \n",
            "Zhang Gongyun             2540      $1 B  60.0               China   \n",
            "Zhang Guiping & family    2540      $1 B  71.0               China   \n",
            "Inigo Zobel               2540      $1 B  66.0         Philippines   \n",
            "\n",
            "                                                Source               Industry  \\\n",
            "Name                                                                            \n",
            "Bernard Arnault & family                          LVMH       Fashion & Retail   \n",
            "Elon Musk                                Tesla, SpaceX             Automotive   \n",
            "Jeff Bezos                                      Amazon             Technology   \n",
            "Larry Ellison                                   Oracle             Technology   \n",
            "Warren Buffett                      Berkshire Hathaway  Finance & Investments   \n",
            "...                                                ...                    ...   \n",
            "Yu Rong                                 Health clinics             Healthcare   \n",
            "Richard Yuengling, Jr.                            Beer        Food & Beverage   \n",
            "Zhang Gongyun             Tyre manufacturing machinery          Manufacturing   \n",
            "Zhang Guiping & family                     Real estate            Real Estate   \n",
            "Inigo Zobel                                Diversified            Diversified   \n",
            "\n",
            "                          Worth  \n",
            "Name                             \n",
            "Bernard Arnault & family  211.0  \n",
            "Elon Musk                 180.0  \n",
            "Jeff Bezos                114.0  \n",
            "Larry Ellison             107.0  \n",
            "Warren Buffett            106.0  \n",
            "...                         ...  \n",
            "Yu Rong                     1.0  \n",
            "Richard Yuengling, Jr.      1.0  \n",
            "Zhang Gongyun               1.0  \n",
            "Zhang Guiping & family      1.0  \n",
            "Inigo Zobel                 1.0  \n",
            "\n",
            "[2614 rows x 7 columns]\n"
          ]
        }
      ]
    },
    {
      "cell_type": "code",
      "source": [
        "selected = ['Age', 'Worth']\n",
        "selected_data = billion_df[selected]\n",
        "corr_matrix = selected_data.corr()\n",
        "sns.heatmap(corr_matrix, annot = True)\n",
        "plt.title('Correlation map')\n",
        "plt.show\n",
        "\n",
        "#plt.imshow(billion_df.corr())"
      ],
      "metadata": {
        "colab": {
          "base_uri": "https://localhost:8080/",
          "height": 621
        },
        "id": "tZm6qKnp8KQC",
        "outputId": "cd74338f-fd07-4fa7-e4d4-6d2ca1c1098e"
      },
      "execution_count": 17,
      "outputs": [
        {
          "output_type": "execute_result",
          "data": {
            "text/plain": [
              "<function matplotlib.pyplot.show(close=None, block=None)>"
            ],
            "text/html": [
              "<div style=\"max-width:800px; border: 1px solid var(--colab-border-color);\"><style>\n",
              "      pre.function-repr-contents {\n",
              "        overflow-x: auto;\n",
              "        padding: 8px 12px;\n",
              "        max-height: 500px;\n",
              "      }\n",
              "\n",
              "      pre.function-repr-contents.function-repr-contents-collapsed {\n",
              "        cursor: pointer;\n",
              "        max-height: 100px;\n",
              "      }\n",
              "    </style>\n",
              "    <pre style=\"white-space: initial; background:\n",
              "         var(--colab-secondary-surface-color); padding: 8px 12px;\n",
              "         border-bottom: 1px solid var(--colab-border-color);\"><b>matplotlib.pyplot.show</b><br/>def show(*args, **kwargs)</pre><pre class=\"function-repr-contents function-repr-contents-collapsed\" style=\"\"><a class=\"filepath\" style=\"display:none\" href=\"#\">/usr/local/lib/python3.10/dist-packages/matplotlib/pyplot.py</a>Display all open figures.\n",
              "\n",
              "Parameters\n",
              "----------\n",
              "block : bool, optional\n",
              "    Whether to wait for all figures to be closed before returning.\n",
              "\n",
              "    If `True` block and run the GUI main loop until all figure windows\n",
              "    are closed.\n",
              "\n",
              "    If `False` ensure that all figure windows are displayed and return\n",
              "    immediately.  In this case, you are responsible for ensuring\n",
              "    that the event loop is running to have responsive figures.\n",
              "\n",
              "    Defaults to True in non-interactive mode and to False in interactive\n",
              "    mode (see `.pyplot.isinteractive`).\n",
              "\n",
              "See Also\n",
              "--------\n",
              "ion : Enable interactive mode, which shows / updates the figure after\n",
              "      every plotting command, so that calling ``show()`` is not necessary.\n",
              "ioff : Disable interactive mode.\n",
              "savefig : Save the figure to an image file instead of showing it on screen.\n",
              "\n",
              "Notes\n",
              "-----\n",
              "**Saving figures to file and showing a window at the same time**\n",
              "\n",
              "If you want an image file as well as a user interface window, use\n",
              "`.pyplot.savefig` before `.pyplot.show`. At the end of (a blocking)\n",
              "``show()`` the figure is closed and thus unregistered from pyplot. Calling\n",
              "`.pyplot.savefig` afterwards would save a new and thus empty figure. This\n",
              "limitation of command order does not apply if the show is non-blocking or\n",
              "if you keep a reference to the figure and use `.Figure.savefig`.\n",
              "\n",
              "**Auto-show in jupyter notebooks**\n",
              "\n",
              "The jupyter backends (activated via ``%matplotlib inline``,\n",
              "``%matplotlib notebook``, or ``%matplotlib widget``), call ``show()`` at\n",
              "the end of every cell by default. Thus, you usually don&#x27;t have to call it\n",
              "explicitly there.</pre>\n",
              "      <script>\n",
              "      if (google.colab.kernel.accessAllowed && google.colab.files && google.colab.files.view) {\n",
              "        for (const element of document.querySelectorAll('.filepath')) {\n",
              "          element.style.display = 'block'\n",
              "          element.onclick = (event) => {\n",
              "            event.preventDefault();\n",
              "            event.stopPropagation();\n",
              "            google.colab.files.view(element.textContent, 401);\n",
              "          };\n",
              "        }\n",
              "      }\n",
              "      for (const element of document.querySelectorAll('.function-repr-contents')) {\n",
              "        element.onclick = (event) => {\n",
              "          event.preventDefault();\n",
              "          event.stopPropagation();\n",
              "          element.classList.toggle('function-repr-contents-collapsed');\n",
              "        };\n",
              "      }\n",
              "      </script>\n",
              "      </div>"
            ]
          },
          "metadata": {},
          "execution_count": 17
        },
        {
          "output_type": "display_data",
          "data": {
            "text/plain": [
              "<Figure size 640x480 with 2 Axes>"
            ],
            "image/png": "[encoded data removed]"
          },
          "metadata": {}
        }
      ]
    },
    {
      "cell_type": "code",
      "source": [
        "country = ['USA','China','Russia']\n",
        "c1 = len(df_country('United States'))\n",
        "c2 = len(df_country('China'))\n",
        "c3 = len(df_country('Russia'))\n",
        "count = [c1,c2,c3]\n",
        "plt.title(\"Number of billionaires by country\")\n",
        "\n",
        "plt.bar(country, count)\n",
        "plt.show()"
      ],
      "metadata": {
        "colab": {
          "base_uri": "https://localhost:8080/",
          "height": 452
        },
        "id": "2N3TCpRE9GxU",
        "outputId": "121a2078-1b05-41da-c68d-dbbf11fef46f"
      },
      "execution_count": 15,
      "outputs": [
        {
          "output_type": "display_data",
          "data": {
            "text/plain": [
              "<Figure size 640x480 with 1 Axes>"
            ],
            "image/png": "[encoded data removed]"
          },
          "metadata": {}
        }
      ]
    },
    {
      "cell_type": "code",
      "source": [
        "billion_df['Industry'].value_counts(normalize=True)"
      ],
      "metadata": {
        "colab": {
          "base_uri": "https://localhost:8080/"
        },
        "id": "sHbgvrpu5FNj",
        "outputId": "0a5e2aa0-72d8-476e-bf5b-8533ebf6be18"
      },
      "execution_count": 20,
      "outputs": [
        {
          "output_type": "execute_result",
          "data": {
            "text/plain": [
              "Finance & Investments         0.140015\n",
              "Manufacturing                 0.121653\n",
              "Technology                    0.118592\n",
              "Fashion & Retail              0.100995\n",
              "Food & Beverage               0.080337\n",
              "Healthcare                    0.076511\n",
              "Real Estate                   0.073451\n",
              "Diversified                   0.071155\n",
              "Energy                        0.038256\n",
              "Media & Entertainment         0.034430\n",
              "Metals & Mining               0.028309\n",
              "Automotive                    0.027544\n",
              "Service                       0.020275\n",
              "Construction & Engineering    0.016832\n",
              "Logistics                     0.015302\n",
              "Sports                        0.014920\n",
              "Telecom                       0.011859\n",
              "Gambling & Casinos            0.009564\n",
              "Name: Industry, dtype: float64"
            ]
          },
          "metadata": {},
          "execution_count": 20
        }
      ]
    },
    {
      "cell_type": "code",
      "source": [
        "data = billion_df['Industry'].value_counts(normalize=True)\n",
        "labels = billion_df['Industry'].unique()\n",
        "explode = [0.1, 0.0, 0.0,\n",
        "           0.0,0.0,0.0,\n",
        "           0.0,0.0,0.0,\n",
        "           0.0,0.0,0.0,\n",
        "           0.0,0.0,0.0,\n",
        "           0.0,0.0,0.0]\n",
        "plt.pie(data,\n",
        "        labels=labels,\n",
        "        explode=explode,\n",
        "        shadow=True,\n",
        "        autopct='%.2f%%')\n",
        "\n",
        "plt.show()"
      ],
      "metadata": {
        "colab": {
          "base_uri": "https://localhost:8080/",
          "height": 406
        },
        "id": "Jkzb9Ugz0XTP",
        "outputId": "d136921f-7812-45af-9a7e-b590bcc56788"
      },
      "execution_count": 21,
      "outputs": [
        {
          "output_type": "display_data",
          "data": {
            "text/plain": [
              "<Figure size 640x480 with 1 Axes>"
            ],
            "image/png": "[encoded data removed]"
          },
          "metadata": {}
        }
      ]
    }
  ]
}